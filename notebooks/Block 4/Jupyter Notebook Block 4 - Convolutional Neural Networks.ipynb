{
 "cells": [
  {
   "cell_type": "markdown",
   "metadata": {},
   "source": [
    "# Part 1 - Convolutional Neural Networks for CIFAR-10\n",
    "\n",
    "\n",
    "In this notebook chapter, we'll build, train and optimize a neural network to classify images of the CIFAR-10 dataset using convolutional neural networks.\n",
    "\n",
    "This guide uses [tf.keras](https://www.tensorflow.org/guide/keras), a high-level API to build and train models in TensorFlow.\n"
   ]
  },
  {
   "cell_type": "code",
   "execution_count": 2,
   "metadata": {},
   "outputs": [
    {
     "name": "stdout",
     "output_type": "stream",
     "text": [
      "2.1.0\n",
      "Train: X=(50000, 32, 32, 3), y=(50000, 1)\n",
      "Test: X=(10000, 32, 32, 3), y=(10000, 1)\n",
      "(50000, 1)\n",
      "(10000, 1)\n",
      "(50000, 10)\n",
      "(10000, 10)\n"
     ]
    }
   ],
   "source": [
    "from __future__ import absolute_import, division, print_function, unicode_literals\n",
    "\n",
    "\n",
    "# Import TensorFlow and TensorFlow Datasets\n",
    "import tensorflow as tf\n",
    "print(tf.__version__)\n",
    "\n",
    "# Helper libraries\n",
    "import math\n",
    "import numpy as np\n",
    "import matplotlib.pyplot as plt\n",
    "\n",
    "\n",
    "from tensorflow.keras.datasets import cifar10\n",
    "from tensorflow.keras.utils import to_categorical\n",
    "# load dataset\n",
    "(X_train, y_train), (X_test, y_test) = cifar10.load_data()\n",
    "X_train = X_train.astype('float32')\n",
    "X_test = X_test.astype('float32')\n",
    " \n",
    "\n",
    "\n",
    "class_names = ['airplanes', 'cars', 'birds', 'cats', 'deer',\n",
    "               'dogs',      'frogs',   'horses',  'ships',   'trucks']\n",
    "num_classes = len(class_names)\n",
    "\n",
    "\n",
    "# summarize loaded dataset\n",
    "print('Train: X=%s, y=%s' % (X_train.shape, y_train.shape))\n",
    "print('Test: X=%s, y=%s' % (X_test.shape, y_test.shape))\n",
    "y_train_cat = to_categorical(y_train, 10)\n",
    "y_test_cat  = to_categorical(y_test, 10)\n",
    "print(y_train.shape)\n",
    "print(y_test.shape)\n",
    "print(y_train_cat.shape)\n",
    "print(y_test_cat.shape)"
   ]
  },
  {
   "cell_type": "markdown",
   "metadata": {},
   "source": [
    "## 1. Preprocess the data\n",
    "\n",
    "### 1.1 Zero-Centered Images\n",
    "\n",
    "The value of each pixel in the image data is an integer in the range `[0,255]`. For the model to work properly, these values need to be zero-centered to the range. So here we compute the mean value per colour channel over all training images and subtract the mean value per colour channel from every image in the training and test set."
   ]
  },
  {
   "cell_type": "code",
   "execution_count": 3,
   "metadata": {},
   "outputs": [
    {
     "name": "stdout",
     "output_type": "stream",
     "text": [
      "[125.3069  122.95015 113.866  ]\n",
      "[-25.327402 -39.670845 -56.451923]\n",
      "(32, 32, 3)\n",
      "(50000, 32, 32, 3)\n",
      "(10000, 32, 32, 3)\n",
      "float32\n"
     ]
    }
   ],
   "source": [
    "train_mean = X_train.mean(axis=(0,1,2))\n",
    "train_std =  X_train.std(axis=(0,1,2))\n",
    "print(train_mean)\n",
    "X_train_zc = X_train - train_mean\n",
    "X_test_zc  = X_test - train_mean\n",
    "\n",
    "\n",
    "print(X_train_zc[3].mean(axis=(0,1)))\n",
    "print(X_train_zc[3].shape)\n",
    "print(X_train_zc.shape)\n",
    "print(X_test_zc.shape)\n",
    "print(X_train_zc.dtype)"
   ]
  },
  {
   "cell_type": "markdown",
   "metadata": {},
   "source": [
    "### 1.2 Data Augmentation"
   ]
  },
  {
   "cell_type": "code",
   "execution_count": 4,
   "metadata": {},
   "outputs": [],
   "source": [
    "import tensorflow as tf\n",
    "from tensorflow.keras.preprocessing.image import ImageDataGenerator\n",
    "from tensorflow.keras.preprocessing import image\n",
    "\n",
    "\n",
    "train_datagen = ImageDataGenerator(\n",
    "        # set input mean to 0 over the dataset\n",
    "        featurewise_center=False, \n",
    "        # set each sample mean to 0\n",
    "        samplewise_center=False,  \n",
    "        # divide inputs by std of the dataset\n",
    "        featurewise_std_normalization=False, \n",
    "        # divide each input by its std\n",
    "        samplewise_std_normalization=False,  \n",
    "        # apply ZCA whitening\n",
    "        zca_whitening=False, \n",
    "        # epsilon for ZCA whitening\n",
    "        zca_epsilon=1e-06,  \n",
    "        # randomly rotate images in the range (degrees, 0 to 180)\n",
    "        rotation_range=0,  \n",
    "        # randomly shift images horizontally (fraction of total width)\n",
    "        width_shift_range=0.1,\n",
    "        # randomly shift images vertically (fraction of total height)\n",
    "        height_shift_range=0.1,\n",
    "        # set range for random shear\n",
    "        shear_range=0., \n",
    "        # set range for random zoom\n",
    "        zoom_range=0.,  \n",
    "        # set range for random channel shifts\n",
    "        # set mode for filling points outside the input boundaries\n",
    "        channel_shift_range=0.,  \n",
    "        # value used for fill_mode = \"constant\"\n",
    "        fill_mode='nearest',\n",
    "        cval=0.,  \n",
    "        # randomly flip images\n",
    "        horizontal_flip=True, \n",
    "        # randomly flip images\n",
    "        vertical_flip=False,  \n",
    "        # set rescaling factor (applied before any other transformation)\n",
    "        rescale=None,\n",
    "        # set function that will be applied on each input\n",
    "        preprocessing_function=None,\n",
    "        # image data format, either \"channels_first\" or \"channels_last\"\n",
    "        data_format=None,\n",
    "        # fraction of images reserved for validation (strictly between 0 and 1)\n",
    "        validation_split=0.0)\n",
    "\n",
    "validation_datagen = ImageDataGenerator( \n",
    "      # rescale the pixel values (between 0 and 255) to the [0,1] interval \n",
    "      # rescale=1./255\n",
    ")\n"
   ]
  },
  {
   "cell_type": "markdown",
   "metadata": {},
   "source": [
    "## 2. Build the model\n",
    "\n",
    "Building the neural network requires configuring the layers of the model, then compiling the model."
   ]
  },
  {
   "cell_type": "markdown",
   "metadata": {},
   "source": [
    "### 2.1 Define the network\n",
    "\n",
    "The basic building block of a neural network is the *layer*. A layer extracts a representation from the data fed into it. Hopefully, a series of connected layers results in a representation that is meaningful for the problem at hand.\n",
    "\n",
    "Much of deep learning consists of chaining together simple layers. Most layers, like `tf.keras.layers.Dense`, have internal parameters which are adjusted (\"learned\") during training."
   ]
  },
  {
   "cell_type": "code",
   "execution_count": 5,
   "metadata": {},
   "outputs": [],
   "source": [
    "model = tf.keras.Sequential()\n",
    "model.add(tf.keras.layers.Conv2D(32, (3, 3), padding='same',\n",
    "                 input_shape=X_train_zc.shape[1:]))\n",
    "model.add(tf.keras.layers.BatchNormalization())\n",
    "model.add(tf.keras.layers.Activation('relu'))\n",
    "model.add(tf.keras.layers.Conv2D(32, (3, 3)))\n",
    "model.add(tf.keras.layers.BatchNormalization())\n",
    "model.add(tf.keras.layers.Activation('relu'))\n",
    "model.add(tf.keras.layers.MaxPooling2D(pool_size=(2, 2)))\n",
    "model.add(tf.keras.layers.Dropout(0.25))\n",
    "\n",
    "model.add(tf.keras.layers.Conv2D(64, (3, 3), padding='same'))\n",
    "model.add(tf.keras.layers.BatchNormalization())\n",
    "model.add(tf.keras.layers.Activation('relu'))\n",
    "model.add(tf.keras.layers.Conv2D(64, (3, 3)))\n",
    "model.add(tf.keras.layers.BatchNormalization())\n",
    "model.add(tf.keras.layers.Activation('relu'))\n",
    "model.add(tf.keras.layers.MaxPooling2D(pool_size=(2, 2)))\n",
    "model.add(tf.keras.layers.Dropout(0.25))\n",
    "\n",
    "model.add(tf.keras.layers.Flatten())\n",
    "model.add(tf.keras.layers.Dense(512))\n",
    "model.add(tf.keras.layers.BatchNormalization())\n",
    "model.add(tf.keras.layers.Activation('relu'))\n",
    "model.add(tf.keras.layers.Dropout(0.5))\n",
    "model.add(tf.keras.layers.Dense(num_classes))\n",
    "model.add(tf.keras.layers.BatchNormalization())\n",
    "model.add(tf.keras.layers.Activation('softmax'))"
   ]
  },
  {
   "cell_type": "markdown",
   "metadata": {},
   "source": [
    "`tf.keras.layers.Conv2D(32, (3, 3)))` implies the following parameter settings:\n",
    "\n",
    "\n",
    "- `filters` : Integer, the dimensionality of the output space (i.e. the number of output filters in the \n",
    "convolution). In this case, the number of filters is $32$.\n",
    "\n",
    "- `kernel_size` : An integer or tuple/list of 2 integers, specifying the height and width of the 2D convolution window (receptive field). Can be a single integer to specify the same value for all spatial dimensions. In this \n",
    "case, the receptive field of the filters are $3\\times3$.\n",
    "\n",
    "- `strides` : An integer or tuple/list of 2 integers, specifying the strides of the convolution along the height and width. Can be a single integer to specify the same value for all spatial dimensions. Default strides : $(1, 1)$\n",
    "\n",
    "- `padding`: one of `valid` or `same`. In this case, the size of the output volume won't be changed.\n",
    "\n",
    "`tf.keras.layers.MaxPooling2D(pool_size=(2, 2))` implies the following parameter settings:\n",
    "\n",
    "- `pool_size`: integer or tuple of 2 integers, factors by which to downscale (vertical, horizontal). $(2, 2)$ will halve the input in both spatial dimension. If only one integer is specified, the same window length will be used for both dimensions.\n",
    "- `strides`: Integer, tuple of 2 integers, or `None`. `strides` values. If `None`, it will default to `pool_size`. In this case $(2,2)$."
   ]
  },
  {
   "cell_type": "code",
   "execution_count": 6,
   "metadata": {},
   "outputs": [
    {
     "name": "stdout",
     "output_type": "stream",
     "text": [
      "Model: \"sequential\"\n",
      "_________________________________________________________________\n",
      "Layer (type)                 Output Shape              Param #   \n",
      "=================================================================\n",
      "conv2d (Conv2D)              (None, 32, 32, 32)        896       \n",
      "_________________________________________________________________\n",
      "batch_normalization (BatchNo (None, 32, 32, 32)        128       \n",
      "_________________________________________________________________\n",
      "activation (Activation)      (None, 32, 32, 32)        0         \n",
      "_________________________________________________________________\n",
      "conv2d_1 (Conv2D)            (None, 30, 30, 32)        9248      \n",
      "_________________________________________________________________\n",
      "batch_normalization_1 (Batch (None, 30, 30, 32)        128       \n",
      "_________________________________________________________________\n",
      "activation_1 (Activation)    (None, 30, 30, 32)        0         \n",
      "_________________________________________________________________\n",
      "max_pooling2d (MaxPooling2D) (None, 15, 15, 32)        0         \n",
      "_________________________________________________________________\n",
      "dropout (Dropout)            (None, 15, 15, 32)        0         \n",
      "_________________________________________________________________\n",
      "conv2d_2 (Conv2D)            (None, 15, 15, 64)        18496     \n",
      "_________________________________________________________________\n",
      "batch_normalization_2 (Batch (None, 15, 15, 64)        256       \n",
      "_________________________________________________________________\n",
      "activation_2 (Activation)    (None, 15, 15, 64)        0         \n",
      "_________________________________________________________________\n",
      "conv2d_3 (Conv2D)            (None, 13, 13, 64)        36928     \n",
      "_________________________________________________________________\n",
      "batch_normalization_3 (Batch (None, 13, 13, 64)        256       \n",
      "_________________________________________________________________\n",
      "activation_3 (Activation)    (None, 13, 13, 64)        0         \n",
      "_________________________________________________________________\n",
      "max_pooling2d_1 (MaxPooling2 (None, 6, 6, 64)          0         \n",
      "_________________________________________________________________\n",
      "dropout_1 (Dropout)          (None, 6, 6, 64)          0         \n",
      "_________________________________________________________________\n",
      "flatten (Flatten)            (None, 2304)              0         \n",
      "_________________________________________________________________\n",
      "dense (Dense)                (None, 512)               1180160   \n",
      "_________________________________________________________________\n",
      "batch_normalization_4 (Batch (None, 512)               2048      \n",
      "_________________________________________________________________\n",
      "activation_4 (Activation)    (None, 512)               0         \n",
      "_________________________________________________________________\n",
      "dropout_2 (Dropout)          (None, 512)               0         \n",
      "_________________________________________________________________\n",
      "dense_1 (Dense)              (None, 10)                5130      \n",
      "_________________________________________________________________\n",
      "batch_normalization_5 (Batch (None, 10)                40        \n",
      "_________________________________________________________________\n",
      "activation_5 (Activation)    (None, 10)                0         \n",
      "=================================================================\n",
      "Total params: 1,253,714\n",
      "Trainable params: 1,252,286\n",
      "Non-trainable params: 1,428\n",
      "_________________________________________________________________\n"
     ]
    }
   ],
   "source": [
    "model.summary()"
   ]
  },
  {
   "cell_type": "markdown",
   "metadata": {},
   "source": [
    "### 2.2 Compile and Fit the Network"
   ]
  },
  {
   "cell_type": "code",
   "execution_count": 7,
   "metadata": {},
   "outputs": [
    {
     "name": "stdout",
     "output_type": "stream",
     "text": [
      "WARNING:tensorflow:From <ipython-input-7-c83e11259bc8>:26: Model.fit_generator (from tensorflow.python.keras.engine.training) is deprecated and will be removed in a future version.\n",
      "Instructions for updating:\n",
      "Please use Model.fit, which supports generators.\n",
      "WARNING:tensorflow:sample_weight modes were coerced from\n",
      "  ...\n",
      "    to  \n",
      "  ['...']\n",
      "WARNING:tensorflow:sample_weight modes were coerced from\n",
      "  ...\n",
      "    to  \n",
      "  ['...']\n",
      "Train for 125 steps, validate for 32 steps\n",
      "Epoch 1/100\n",
      "125/125 [==============================] - 11s 87ms/step - loss: 2.2512 - accuracy: 0.2062 - val_loss: 1.9002 - val_accuracy: 0.3350\n",
      "Epoch 2/100\n",
      "125/125 [==============================] - 9s 71ms/step - loss: 1.9459 - accuracy: 0.2895 - val_loss: 1.7895 - val_accuracy: 0.3670\n",
      "Epoch 3/100\n",
      "125/125 [==============================] - 9s 69ms/step - loss: 1.8558 - accuracy: 0.3237 - val_loss: 1.7282 - val_accuracy: 0.3870\n",
      "Epoch 4/100\n",
      "125/125 [==============================] - 9s 71ms/step - loss: 1.7955 - accuracy: 0.3543 - val_loss: 1.6843 - val_accuracy: 0.4210\n",
      "Epoch 5/100\n",
      "125/125 [==============================] - 9s 69ms/step - loss: 1.7510 - accuracy: 0.3750 - val_loss: 1.6127 - val_accuracy: 0.4420\n",
      "Epoch 6/100\n",
      "125/125 [==============================] - 9s 72ms/step - loss: 1.7125 - accuracy: 0.3832 - val_loss: 1.5819 - val_accuracy: 0.4380\n",
      "Epoch 7/100\n",
      "125/125 [==============================] - 9s 70ms/step - loss: 1.6774 - accuracy: 0.4085 - val_loss: 1.5531 - val_accuracy: 0.4630\n",
      "Epoch 8/100\n",
      "125/125 [==============================] - 9s 71ms/step - loss: 1.6421 - accuracy: 0.4238 - val_loss: 1.5303 - val_accuracy: 0.4660\n",
      "Epoch 9/100\n",
      "125/125 [==============================] - 9s 71ms/step - loss: 1.6171 - accuracy: 0.4288 - val_loss: 1.4932 - val_accuracy: 0.4830\n",
      "Epoch 10/100\n",
      "125/125 [==============================] - 7s 58ms/step - loss: 1.6094 - accuracy: 0.4268 - val_loss: 1.4944 - val_accuracy: 0.4840\n",
      "Epoch 11/100\n",
      "125/125 [==============================] - 7s 57ms/step - loss: 1.5769 - accuracy: 0.4538 - val_loss: 1.4593 - val_accuracy: 0.5030\n",
      "Epoch 12/100\n",
      "125/125 [==============================] - 7s 56ms/step - loss: 1.5610 - accuracy: 0.4620 - val_loss: 1.4482 - val_accuracy: 0.5090\n",
      "Epoch 13/100\n",
      "125/125 [==============================] - 7s 57ms/step - loss: 1.5473 - accuracy: 0.4640 - val_loss: 1.4375 - val_accuracy: 0.5030\n",
      "Epoch 14/100\n",
      "125/125 [==============================] - 7s 56ms/step - loss: 1.5314 - accuracy: 0.4683 - val_loss: 1.4114 - val_accuracy: 0.5080\n",
      "Epoch 15/100\n",
      "125/125 [==============================] - 7s 58ms/step - loss: 1.5171 - accuracy: 0.4717 - val_loss: 1.4202 - val_accuracy: 0.5020\n",
      "Epoch 16/100\n",
      "125/125 [==============================] - 7s 58ms/step - loss: 1.5016 - accuracy: 0.4880 - val_loss: 1.4279 - val_accuracy: 0.5110\n",
      "Epoch 17/100\n",
      "125/125 [==============================] - 7s 58ms/step - loss: 1.4835 - accuracy: 0.4922 - val_loss: 1.3995 - val_accuracy: 0.5190\n",
      "Epoch 18/100\n",
      "125/125 [==============================] - 7s 57ms/step - loss: 1.4871 - accuracy: 0.4945 - val_loss: 1.3945 - val_accuracy: 0.5170\n",
      "Epoch 19/100\n",
      "125/125 [==============================] - 7s 58ms/step - loss: 1.4704 - accuracy: 0.4952 - val_loss: 1.3861 - val_accuracy: 0.5260\n",
      "Epoch 20/100\n",
      "125/125 [==============================] - 7s 59ms/step - loss: 1.4580 - accuracy: 0.4983 - val_loss: 1.3804 - val_accuracy: 0.5190\n",
      "Epoch 21/100\n",
      "125/125 [==============================] - 7s 57ms/step - loss: 1.4455 - accuracy: 0.5020 - val_loss: 1.4168 - val_accuracy: 0.5090\n",
      "Epoch 22/100\n",
      "125/125 [==============================] - 7s 58ms/step - loss: 1.4289 - accuracy: 0.5160 - val_loss: 1.3914 - val_accuracy: 0.5210\n",
      "Epoch 23/100\n",
      "125/125 [==============================] - 7s 60ms/step - loss: 1.4294 - accuracy: 0.5155 - val_loss: 1.3497 - val_accuracy: 0.5220\n",
      "Epoch 24/100\n",
      "125/125 [==============================] - 7s 58ms/step - loss: 1.4021 - accuracy: 0.5272 - val_loss: 1.3266 - val_accuracy: 0.5390\n",
      "Epoch 25/100\n",
      "125/125 [==============================] - 7s 57ms/step - loss: 1.3942 - accuracy: 0.5290 - val_loss: 1.3986 - val_accuracy: 0.5090\n",
      "Epoch 26/100\n",
      "125/125 [==============================] - 8s 61ms/step - loss: 1.3884 - accuracy: 0.5257 - val_loss: 1.3250 - val_accuracy: 0.5300\n",
      "Epoch 27/100\n",
      "125/125 [==============================] - 7s 57ms/step - loss: 1.3760 - accuracy: 0.5315 - val_loss: 1.3303 - val_accuracy: 0.5390\n",
      "Epoch 28/100\n",
      "125/125 [==============================] - 7s 58ms/step - loss: 1.3583 - accuracy: 0.5497 - val_loss: 1.3378 - val_accuracy: 0.5320\n",
      "Epoch 29/100\n",
      "125/125 [==============================] - 7s 57ms/step - loss: 1.3590 - accuracy: 0.5420 - val_loss: 1.3401 - val_accuracy: 0.5210\n",
      "Epoch 30/100\n",
      "125/125 [==============================] - 7s 56ms/step - loss: 1.3367 - accuracy: 0.5595 - val_loss: 1.3106 - val_accuracy: 0.5380\n",
      "Epoch 31/100\n",
      "125/125 [==============================] - 7s 56ms/step - loss: 1.3270 - accuracy: 0.5627 - val_loss: 1.3126 - val_accuracy: 0.5310\n",
      "Epoch 32/100\n",
      "125/125 [==============================] - 7s 58ms/step - loss: 1.3192 - accuracy: 0.5570 - val_loss: 1.3391 - val_accuracy: 0.5420\n",
      "Epoch 33/100\n",
      "125/125 [==============================] - 7s 57ms/step - loss: 1.3205 - accuracy: 0.5633 - val_loss: 1.2975 - val_accuracy: 0.5500\n",
      "Epoch 34/100\n",
      "125/125 [==============================] - 7s 58ms/step - loss: 1.3031 - accuracy: 0.5730 - val_loss: 1.2648 - val_accuracy: 0.5450\n",
      "Epoch 35/100\n",
      "125/125 [==============================] - 7s 57ms/step - loss: 1.2936 - accuracy: 0.5763 - val_loss: 1.3032 - val_accuracy: 0.5480\n",
      "Epoch 36/100\n",
      "125/125 [==============================] - 7s 58ms/step - loss: 1.2869 - accuracy: 0.5767 - val_loss: 1.2882 - val_accuracy: 0.5460\n",
      "Epoch 37/100\n",
      "125/125 [==============================] - 7s 58ms/step - loss: 1.2664 - accuracy: 0.5835 - val_loss: 1.2441 - val_accuracy: 0.5620\n",
      "Epoch 38/100\n",
      "125/125 [==============================] - 7s 57ms/step - loss: 1.2705 - accuracy: 0.5910 - val_loss: 1.2517 - val_accuracy: 0.5580\n",
      "Epoch 39/100\n",
      "125/125 [==============================] - 7s 58ms/step - loss: 1.2691 - accuracy: 0.5860 - val_loss: 1.2886 - val_accuracy: 0.5380\n",
      "Epoch 40/100\n",
      "125/125 [==============================] - 7s 59ms/step - loss: 1.2612 - accuracy: 0.5925 - val_loss: 1.2918 - val_accuracy: 0.5490\n",
      "Epoch 41/100\n",
      "125/125 [==============================] - 7s 58ms/step - loss: 1.2381 - accuracy: 0.5845 - val_loss: 1.2037 - val_accuracy: 0.5760\n",
      "Epoch 42/100\n",
      "125/125 [==============================] - 7s 57ms/step - loss: 1.2424 - accuracy: 0.5865 - val_loss: 1.2147 - val_accuracy: 0.5640\n",
      "Epoch 43/100\n",
      "125/125 [==============================] - 7s 56ms/step - loss: 1.2125 - accuracy: 0.6050 - val_loss: 1.2072 - val_accuracy: 0.5780\n",
      "Epoch 44/100\n",
      "125/125 [==============================] - 7s 56ms/step - loss: 1.2021 - accuracy: 0.6102 - val_loss: 1.2310 - val_accuracy: 0.5600\n",
      "Epoch 45/100\n",
      "125/125 [==============================] - 7s 59ms/step - loss: 1.2033 - accuracy: 0.6012 - val_loss: 1.2278 - val_accuracy: 0.5700\n",
      "Epoch 46/100\n",
      "125/125 [==============================] - 7s 58ms/step - loss: 1.2009 - accuracy: 0.6040 - val_loss: 1.2098 - val_accuracy: 0.5830\n",
      "Epoch 47/100\n",
      "125/125 [==============================] - 7s 58ms/step - loss: 1.1954 - accuracy: 0.6062 - val_loss: 1.1676 - val_accuracy: 0.5900\n",
      "Epoch 48/100\n",
      "125/125 [==============================] - 7s 58ms/step - loss: 1.1877 - accuracy: 0.6122 - val_loss: 1.1936 - val_accuracy: 0.5750\n",
      "Epoch 49/100\n",
      "125/125 [==============================] - 7s 57ms/step - loss: 1.1721 - accuracy: 0.6233 - val_loss: 1.2490 - val_accuracy: 0.5620\n",
      "Epoch 50/100\n",
      "125/125 [==============================] - 7s 57ms/step - loss: 1.1670 - accuracy: 0.6190 - val_loss: 1.1896 - val_accuracy: 0.5740\n",
      "Epoch 51/100\n",
      "125/125 [==============================] - 7s 58ms/step - loss: 1.1495 - accuracy: 0.6330 - val_loss: 1.2133 - val_accuracy: 0.5650\n",
      "Epoch 52/100\n",
      "125/125 [==============================] - 7s 56ms/step - loss: 1.1429 - accuracy: 0.6245 - val_loss: 1.1587 - val_accuracy: 0.5930\n",
      "Epoch 53/100\n",
      "125/125 [==============================] - 7s 56ms/step - loss: 1.1399 - accuracy: 0.6283 - val_loss: 1.2248 - val_accuracy: 0.5740\n",
      "Epoch 54/100\n",
      "125/125 [==============================] - 7s 58ms/step - loss: 1.1417 - accuracy: 0.6298 - val_loss: 1.2083 - val_accuracy: 0.5830\n",
      "Epoch 55/100\n",
      "125/125 [==============================] - 7s 57ms/step - loss: 1.1273 - accuracy: 0.6373 - val_loss: 1.1745 - val_accuracy: 0.5950\n",
      "Epoch 56/100\n",
      "125/125 [==============================] - 8s 64ms/step - loss: 1.1316 - accuracy: 0.6290 - val_loss: 1.1910 - val_accuracy: 0.5910\n",
      "Epoch 57/100\n",
      "125/125 [==============================] - 7s 59ms/step - loss: 1.1151 - accuracy: 0.6378 - val_loss: 1.1406 - val_accuracy: 0.5990\n",
      "Epoch 58/100\n",
      "125/125 [==============================] - 7s 57ms/step - loss: 1.1250 - accuracy: 0.6335 - val_loss: 1.1646 - val_accuracy: 0.5940\n",
      "Epoch 59/100\n",
      "125/125 [==============================] - 7s 57ms/step - loss: 1.1107 - accuracy: 0.6338 - val_loss: 1.2260 - val_accuracy: 0.5720\n",
      "Epoch 60/100\n",
      "125/125 [==============================] - 7s 54ms/step - loss: 1.0887 - accuracy: 0.6522 - val_loss: 1.1106 - val_accuracy: 0.6010\n",
      "Epoch 61/100\n",
      "125/125 [==============================] - 9s 73ms/step - loss: 1.1023 - accuracy: 0.6420 - val_loss: 1.1708 - val_accuracy: 0.5960\n",
      "Epoch 62/100\n",
      "125/125 [==============================] - 9s 73ms/step - loss: 1.0802 - accuracy: 0.6520 - val_loss: 1.1983 - val_accuracy: 0.5830\n",
      "Epoch 63/100\n",
      "125/125 [==============================] - 9s 71ms/step - loss: 1.0874 - accuracy: 0.6457 - val_loss: 1.1665 - val_accuracy: 0.5900\n",
      "Epoch 64/100\n",
      "125/125 [==============================] - 9s 76ms/step - loss: 1.0830 - accuracy: 0.6495 - val_loss: 1.1267 - val_accuracy: 0.6140\n",
      "Epoch 65/100\n",
      "125/125 [==============================] - 9s 74ms/step - loss: 1.0817 - accuracy: 0.6430 - val_loss: 1.1445 - val_accuracy: 0.6040\n",
      "Epoch 66/100\n",
      "125/125 [==============================] - 9s 75ms/step - loss: 1.0618 - accuracy: 0.6570 - val_loss: 1.0997 - val_accuracy: 0.6280\n",
      "Epoch 67/100\n",
      "125/125 [==============================] - 9s 75ms/step - loss: 1.0612 - accuracy: 0.6557 - val_loss: 1.1619 - val_accuracy: 0.5990\n",
      "Epoch 68/100\n",
      "125/125 [==============================] - 9s 70ms/step - loss: 1.0453 - accuracy: 0.6640 - val_loss: 1.1093 - val_accuracy: 0.6200\n",
      "Epoch 69/100\n",
      "125/125 [==============================] - 7s 59ms/step - loss: 1.0426 - accuracy: 0.6633 - val_loss: 1.1304 - val_accuracy: 0.6060\n",
      "Epoch 70/100\n",
      "125/125 [==============================] - 7s 58ms/step - loss: 1.0435 - accuracy: 0.6690 - val_loss: 1.1341 - val_accuracy: 0.6130\n",
      "Epoch 71/100\n",
      "125/125 [==============================] - 7s 60ms/step - loss: 1.0272 - accuracy: 0.6662 - val_loss: 1.0605 - val_accuracy: 0.6390\n",
      "Epoch 72/100\n",
      "125/125 [==============================] - 7s 59ms/step - loss: 1.0287 - accuracy: 0.6668 - val_loss: 1.1215 - val_accuracy: 0.6040\n",
      "Epoch 73/100\n",
      "125/125 [==============================] - 7s 59ms/step - loss: 1.0202 - accuracy: 0.6737 - val_loss: 1.0863 - val_accuracy: 0.6280\n",
      "Epoch 74/100\n",
      "125/125 [==============================] - 7s 58ms/step - loss: 1.0168 - accuracy: 0.6768 - val_loss: 1.0998 - val_accuracy: 0.6190\n",
      "Epoch 75/100\n",
      "125/125 [==============================] - 7s 58ms/step - loss: 1.0147 - accuracy: 0.6755 - val_loss: 1.1142 - val_accuracy: 0.6180\n",
      "Epoch 76/100\n",
      "125/125 [==============================] - 7s 57ms/step - loss: 0.9988 - accuracy: 0.6860 - val_loss: 1.1207 - val_accuracy: 0.6120\n",
      "Epoch 77/100\n",
      "125/125 [==============================] - 7s 59ms/step - loss: 1.0097 - accuracy: 0.6752 - val_loss: 1.1374 - val_accuracy: 0.6100\n",
      "Epoch 78/100\n",
      "125/125 [==============================] - 7s 58ms/step - loss: 0.9933 - accuracy: 0.6870 - val_loss: 1.0798 - val_accuracy: 0.6240\n",
      "Epoch 79/100\n",
      "125/125 [==============================] - 7s 58ms/step - loss: 0.9892 - accuracy: 0.6795 - val_loss: 1.1673 - val_accuracy: 0.6030\n",
      "Epoch 80/100\n",
      "125/125 [==============================] - 7s 59ms/step - loss: 0.9884 - accuracy: 0.6880 - val_loss: 1.1543 - val_accuracy: 0.5990\n",
      "Epoch 81/100\n",
      "125/125 [==============================] - 7s 58ms/step - loss: 0.9772 - accuracy: 0.6855 - val_loss: 1.0510 - val_accuracy: 0.6410\n",
      "Epoch 82/100\n",
      "125/125 [==============================] - 7s 58ms/step - loss: 0.9591 - accuracy: 0.6950 - val_loss: 1.0653 - val_accuracy: 0.6260\n",
      "Epoch 83/100\n",
      "125/125 [==============================] - 7s 58ms/step - loss: 0.9610 - accuracy: 0.6973 - val_loss: 1.1048 - val_accuracy: 0.6180\n",
      "Epoch 84/100\n",
      "125/125 [==============================] - 7s 59ms/step - loss: 0.9459 - accuracy: 0.6998 - val_loss: 1.1615 - val_accuracy: 0.6030\n",
      "Epoch 85/100\n",
      "125/125 [==============================] - 7s 59ms/step - loss: 0.9553 - accuracy: 0.6973 - val_loss: 1.1108 - val_accuracy: 0.6230\n",
      "Epoch 86/100\n",
      "125/125 [==============================] - 7s 59ms/step - loss: 0.9471 - accuracy: 0.6977 - val_loss: 1.0415 - val_accuracy: 0.6480\n",
      "Epoch 87/100\n",
      "125/125 [==============================] - 7s 58ms/step - loss: 0.9556 - accuracy: 0.7000 - val_loss: 1.0634 - val_accuracy: 0.6290\n",
      "Epoch 88/100\n",
      "125/125 [==============================] - 7s 57ms/step - loss: 0.9448 - accuracy: 0.6995 - val_loss: 1.0514 - val_accuracy: 0.6410\n",
      "Epoch 89/100\n",
      "125/125 [==============================] - 7s 58ms/step - loss: 0.9378 - accuracy: 0.6973 - val_loss: 1.0780 - val_accuracy: 0.6270\n",
      "Epoch 90/100\n",
      "125/125 [==============================] - 7s 56ms/step - loss: 0.9305 - accuracy: 0.7030 - val_loss: 1.0705 - val_accuracy: 0.6250\n",
      "Epoch 91/100\n",
      "125/125 [==============================] - 7s 58ms/step - loss: 0.9114 - accuracy: 0.7225 - val_loss: 1.0238 - val_accuracy: 0.6440\n",
      "Epoch 92/100\n",
      "125/125 [==============================] - 7s 57ms/step - loss: 0.9195 - accuracy: 0.7135 - val_loss: 1.0617 - val_accuracy: 0.6390\n",
      "Epoch 93/100\n",
      "125/125 [==============================] - 7s 56ms/step - loss: 0.9175 - accuracy: 0.7100 - val_loss: 1.0606 - val_accuracy: 0.6510\n",
      "Epoch 94/100\n",
      "125/125 [==============================] - 7s 59ms/step - loss: 0.9050 - accuracy: 0.7190 - val_loss: 1.0665 - val_accuracy: 0.6400\n",
      "Epoch 95/100\n",
      "125/125 [==============================] - 7s 56ms/step - loss: 0.9041 - accuracy: 0.7163 - val_loss: 1.0948 - val_accuracy: 0.6290\n",
      "Epoch 96/100\n",
      "125/125 [==============================] - 7s 59ms/step - loss: 0.8954 - accuracy: 0.7147 - val_loss: 1.0434 - val_accuracy: 0.6530\n",
      "Epoch 97/100\n",
      "125/125 [==============================] - 7s 59ms/step - loss: 0.9040 - accuracy: 0.7168 - val_loss: 1.0383 - val_accuracy: 0.6420\n",
      "Epoch 98/100\n",
      "125/125 [==============================] - 7s 59ms/step - loss: 0.8882 - accuracy: 0.7168 - val_loss: 1.0157 - val_accuracy: 0.6480\n",
      "Epoch 99/100\n",
      "125/125 [==============================] - 7s 58ms/step - loss: 0.9034 - accuracy: 0.7132 - val_loss: 0.9803 - val_accuracy: 0.6670\n",
      "Epoch 100/100\n",
      "125/125 [==============================] - 7s 58ms/step - loss: 0.8893 - accuracy: 0.7197 - val_loss: 1.0824 - val_accuracy: 0.6320\n"
     ]
    },
    {
     "data": {
      "text/plain": [
       "<bound method Model.evaluate of <tensorflow.python.keras.engine.sequential.Sequential object at 0x7fee2f13a490>>"
      ]
     },
     "execution_count": 7,
     "metadata": {},
     "output_type": "execute_result"
    }
   ],
   "source": [
    "import datetime, os\n",
    "logdir = os.path.join(\"logs\", datetime.datetime.now().strftime(\"%Y%m%d-%H%M%S\"))\n",
    "tensorboard_callback = tf.keras.callbacks.TensorBoard(logdir, histogram_freq=1)\n",
    "\n",
    "# Compile Network \n",
    "model.compile(optimizer=tf.keras.optimizers.Adam(learning_rate=0.0001, decay=1e-6),\n",
    "              loss='categorical_crossentropy',\n",
    "              metrics=['accuracy'])\n",
    "\n",
    "num_validation_examples = 1000\n",
    "num_train_examples = 5000\n",
    "\n",
    "\n",
    "train_iterator = train_datagen.flow(X_train_zc[num_validation_examples:num_train_examples], \n",
    "                                    y_train_cat[num_validation_examples:num_train_examples], \n",
    "                                    batch_size=32)\n",
    "validation_iterator = validation_datagen.flow(X_train_zc[:num_validation_examples:], \n",
    "                                              y_train_cat[:num_validation_examples:], \n",
    "                                              batch_size=32)\n",
    "\n",
    "# Fit Network\n",
    "history = model.fit_generator(generator= train_iterator,  \n",
    "                              validation_data = validation_iterator, \n",
    "                              epochs=100, \n",
    "                              steps_per_epoch=len(train_iterator),\n",
    "                              callbacks=[tensorboard_callback])\n",
    "\n",
    "# Determine \n",
    "model.evaluate"
   ]
  },
  {
   "cell_type": "markdown",
   "metadata": {},
   "source": [
    "### 2.3 Evaluate the Network on the test dataset"
   ]
  },
  {
   "cell_type": "code",
   "execution_count": 8,
   "metadata": {},
   "outputs": [
    {
     "name": "stdout",
     "output_type": "stream",
     "text": [
      "10000/10000 [==============================] - 4s 432us/sample - loss: 1.0911 - accuracy: 0.6336\n"
     ]
    },
    {
     "data": {
      "text/plain": [
       "[1.091132074546814, 0.6336]"
      ]
     },
     "execution_count": 8,
     "metadata": {},
     "output_type": "execute_result"
    }
   ],
   "source": [
    "model.evaluate(X_test_zc, y_test_cat)"
   ]
  },
  {
   "cell_type": "code",
   "execution_count": 9,
   "metadata": {},
   "outputs": [
    {
     "data": {
      "image/png": "[encoded data removed]",
      "text/plain": [
       "<Figure size 576x576 with 2 Axes>"
      ]
     },
     "metadata": {
      "needs_background": "light"
     },
     "output_type": "display_data"
    }
   ],
   "source": [
    "# Plot training and validation accuracy\n",
    "acc = history.history['accuracy']\n",
    "val_acc = history.history['val_accuracy']\n",
    "\n",
    "loss = history.history['loss']\n",
    "val_loss = history.history['val_loss']\n",
    "\n",
    "epochs_range = range(100)\n",
    "\n",
    "plt.figure(figsize=(8, 8))\n",
    "plt.subplot(1, 2, 1)\n",
    "plt.plot(epochs_range, acc, label='Training Accuracy')\n",
    "plt.plot(epochs_range, val_acc, label='Validation Accuracy')\n",
    "plt.legend(loc='lower right')\n",
    "plt.title('Training and Validation Accuracy')\n",
    "\n",
    "plt.subplot(1, 2, 2)\n",
    "plt.plot(epochs_range, loss, label='Training Loss')\n",
    "plt.plot(epochs_range, val_loss, label='Validation Loss')\n",
    "plt.legend(loc='upper right')\n",
    "plt.title('Training and Validation Loss')\n",
    "plt.show()"
   ]
  },
  {
   "cell_type": "code",
   "execution_count": 10,
   "metadata": {},
   "outputs": [],
   "source": [
    "# Load the TensorBoard notebook extension\n",
    "%load_ext tensorboard"
   ]
  },
  {
   "cell_type": "code",
   "execution_count": 11,
   "metadata": {},
   "outputs": [
    {
     "data": {
      "text/html": [
       "\n",
       "      <iframe id=\"tensorboard-frame-9ebfdb0f64ab972b\" width=\"100%\" height=\"800\" frameborder=\"0\">\n",
       "      </iframe>\n",
       "      <script>\n",
       "        (function() {\n",
       "          const frame = document.getElementById(\"tensorboard-frame-9ebfdb0f64ab972b\");\n",
       "          const url = new URL(\"/\", window.location);\n",
       "          url.port = 6006;\n",
       "          frame.src = url;\n",
       "        })();\n",
       "      </script>\n",
       "  "
      ],
      "text/plain": [
       "<IPython.core.display.HTML object>"
      ]
     },
     "metadata": {},
     "output_type": "display_data"
    }
   ],
   "source": [
    "os.makedirs(logdir, exist_ok=True)\n",
    "%tensorboard --logdir logs\n"
   ]
  },
  {
   "cell_type": "markdown",
   "metadata": {},
   "source": [
    "### Save the model"
   ]
  },
  {
   "cell_type": "code",
   "execution_count": 12,
   "metadata": {},
   "outputs": [
    {
     "ename": "OSError",
     "evalue": "Unable to create file (unable to open file: name = './Daten/cifar_10_convnets_1.h5', errno = 2, error message = 'No such file or directory', flags = 13, o_flags = 242)",
     "output_type": "error",
     "traceback": [
      "\u001b[0;31m---------------------------------------------------------------------------\u001b[0m",
      "\u001b[0;31mOSError\u001b[0m                                   Traceback (most recent call last)",
      "\u001b[0;32m<ipython-input-12-85fb2bf19c5a>\u001b[0m in \u001b[0;36m<module>\u001b[0;34m\u001b[0m\n\u001b[0;32m----> 1\u001b[0;31m \u001b[0mmodel\u001b[0m\u001b[0;34m.\u001b[0m\u001b[0msave\u001b[0m\u001b[0;34m(\u001b[0m\u001b[0;34m'./Daten/cifar_10_convnets_1.h5'\u001b[0m\u001b[0;34m)\u001b[0m\u001b[0;34m\u001b[0m\u001b[0;34m\u001b[0m\u001b[0m\n\u001b[0m",
      "\u001b[0;32m/opt/conda/lib/python3.7/site-packages/tensorflow_core/python/keras/engine/network.py\u001b[0m in \u001b[0;36msave\u001b[0;34m(self, filepath, overwrite, include_optimizer, save_format, signatures, options)\u001b[0m\n\u001b[1;32m   1006\u001b[0m     \"\"\"\n\u001b[1;32m   1007\u001b[0m     save.save_model(self, filepath, overwrite, include_optimizer, save_format,\n\u001b[0;32m-> 1008\u001b[0;31m                     signatures, options)\n\u001b[0m\u001b[1;32m   1009\u001b[0m \u001b[0;34m\u001b[0m\u001b[0m\n\u001b[1;32m   1010\u001b[0m   \u001b[0;32mdef\u001b[0m \u001b[0msave_weights\u001b[0m\u001b[0;34m(\u001b[0m\u001b[0mself\u001b[0m\u001b[0;34m,\u001b[0m \u001b[0mfilepath\u001b[0m\u001b[0;34m,\u001b[0m \u001b[0moverwrite\u001b[0m\u001b[0;34m=\u001b[0m\u001b[0;32mTrue\u001b[0m\u001b[0;34m,\u001b[0m \u001b[0msave_format\u001b[0m\u001b[0;34m=\u001b[0m\u001b[0;32mNone\u001b[0m\u001b[0;34m)\u001b[0m\u001b[0;34m:\u001b[0m\u001b[0;34m\u001b[0m\u001b[0;34m\u001b[0m\u001b[0m\n",
      "\u001b[0;32m/opt/conda/lib/python3.7/site-packages/tensorflow_core/python/keras/saving/save.py\u001b[0m in \u001b[0;36msave_model\u001b[0;34m(model, filepath, overwrite, include_optimizer, save_format, signatures, options)\u001b[0m\n\u001b[1;32m    110\u001b[0m           'or using `save_weights`.')\n\u001b[1;32m    111\u001b[0m     hdf5_format.save_model_to_hdf5(\n\u001b[0;32m--> 112\u001b[0;31m         model, filepath, overwrite, include_optimizer)\n\u001b[0m\u001b[1;32m    113\u001b[0m   \u001b[0;32melse\u001b[0m\u001b[0;34m:\u001b[0m\u001b[0;34m\u001b[0m\u001b[0;34m\u001b[0m\u001b[0m\n\u001b[1;32m    114\u001b[0m     saved_model_save.save(model, filepath, overwrite, include_optimizer,\n",
      "\u001b[0;32m/opt/conda/lib/python3.7/site-packages/tensorflow_core/python/keras/saving/hdf5_format.py\u001b[0m in \u001b[0;36msave_model_to_hdf5\u001b[0;34m(model, filepath, overwrite, include_optimizer)\u001b[0m\n\u001b[1;32m     90\u001b[0m         \u001b[0;32mreturn\u001b[0m\u001b[0;34m\u001b[0m\u001b[0;34m\u001b[0m\u001b[0m\n\u001b[1;32m     91\u001b[0m \u001b[0;34m\u001b[0m\u001b[0m\n\u001b[0;32m---> 92\u001b[0;31m     \u001b[0mf\u001b[0m \u001b[0;34m=\u001b[0m \u001b[0mh5py\u001b[0m\u001b[0;34m.\u001b[0m\u001b[0mFile\u001b[0m\u001b[0;34m(\u001b[0m\u001b[0mfilepath\u001b[0m\u001b[0;34m,\u001b[0m \u001b[0mmode\u001b[0m\u001b[0;34m=\u001b[0m\u001b[0;34m'w'\u001b[0m\u001b[0;34m)\u001b[0m\u001b[0;34m\u001b[0m\u001b[0;34m\u001b[0m\u001b[0m\n\u001b[0m\u001b[1;32m     93\u001b[0m     \u001b[0mopened_new_file\u001b[0m \u001b[0;34m=\u001b[0m \u001b[0;32mTrue\u001b[0m\u001b[0;34m\u001b[0m\u001b[0;34m\u001b[0m\u001b[0m\n\u001b[1;32m     94\u001b[0m   \u001b[0;32melse\u001b[0m\u001b[0;34m:\u001b[0m\u001b[0;34m\u001b[0m\u001b[0;34m\u001b[0m\u001b[0m\n",
      "\u001b[0;32m/opt/conda/lib/python3.7/site-packages/h5py/_hl/files.py\u001b[0m in \u001b[0;36m__init__\u001b[0;34m(self, name, mode, driver, libver, userblock_size, swmr, rdcc_nslots, rdcc_nbytes, rdcc_w0, track_order, fs_strategy, fs_persist, fs_threshold, **kwds)\u001b[0m\n\u001b[1;32m    425\u001b[0m                                fapl, fcpl=make_fcpl(track_order=track_order, fs_strategy=fs_strategy,\n\u001b[1;32m    426\u001b[0m                                fs_persist=fs_persist, fs_threshold=fs_threshold),\n\u001b[0;32m--> 427\u001b[0;31m                                swmr=swmr)\n\u001b[0m\u001b[1;32m    428\u001b[0m \u001b[0;34m\u001b[0m\u001b[0m\n\u001b[1;32m    429\u001b[0m             \u001b[0;32mif\u001b[0m \u001b[0misinstance\u001b[0m\u001b[0;34m(\u001b[0m\u001b[0mlibver\u001b[0m\u001b[0;34m,\u001b[0m \u001b[0mtuple\u001b[0m\u001b[0;34m)\u001b[0m\u001b[0;34m:\u001b[0m\u001b[0;34m\u001b[0m\u001b[0;34m\u001b[0m\u001b[0m\n",
      "\u001b[0;32m/opt/conda/lib/python3.7/site-packages/h5py/_hl/files.py\u001b[0m in \u001b[0;36mmake_fid\u001b[0;34m(name, mode, userblock_size, fapl, fcpl, swmr)\u001b[0m\n\u001b[1;32m    194\u001b[0m         \u001b[0mfid\u001b[0m \u001b[0;34m=\u001b[0m \u001b[0mh5f\u001b[0m\u001b[0;34m.\u001b[0m\u001b[0mcreate\u001b[0m\u001b[0;34m(\u001b[0m\u001b[0mname\u001b[0m\u001b[0;34m,\u001b[0m \u001b[0mh5f\u001b[0m\u001b[0;34m.\u001b[0m\u001b[0mACC_EXCL\u001b[0m\u001b[0;34m,\u001b[0m \u001b[0mfapl\u001b[0m\u001b[0;34m=\u001b[0m\u001b[0mfapl\u001b[0m\u001b[0;34m,\u001b[0m \u001b[0mfcpl\u001b[0m\u001b[0;34m=\u001b[0m\u001b[0mfcpl\u001b[0m\u001b[0;34m)\u001b[0m\u001b[0;34m\u001b[0m\u001b[0;34m\u001b[0m\u001b[0m\n\u001b[1;32m    195\u001b[0m     \u001b[0;32melif\u001b[0m \u001b[0mmode\u001b[0m \u001b[0;34m==\u001b[0m \u001b[0;34m'w'\u001b[0m\u001b[0;34m:\u001b[0m\u001b[0;34m\u001b[0m\u001b[0;34m\u001b[0m\u001b[0m\n\u001b[0;32m--> 196\u001b[0;31m         \u001b[0mfid\u001b[0m \u001b[0;34m=\u001b[0m \u001b[0mh5f\u001b[0m\u001b[0;34m.\u001b[0m\u001b[0mcreate\u001b[0m\u001b[0;34m(\u001b[0m\u001b[0mname\u001b[0m\u001b[0;34m,\u001b[0m \u001b[0mh5f\u001b[0m\u001b[0;34m.\u001b[0m\u001b[0mACC_TRUNC\u001b[0m\u001b[0;34m,\u001b[0m \u001b[0mfapl\u001b[0m\u001b[0;34m=\u001b[0m\u001b[0mfapl\u001b[0m\u001b[0;34m,\u001b[0m \u001b[0mfcpl\u001b[0m\u001b[0;34m=\u001b[0m\u001b[0mfcpl\u001b[0m\u001b[0;34m)\u001b[0m\u001b[0;34m\u001b[0m\u001b[0;34m\u001b[0m\u001b[0m\n\u001b[0m\u001b[1;32m    197\u001b[0m     \u001b[0;32melif\u001b[0m \u001b[0mmode\u001b[0m \u001b[0;34m==\u001b[0m \u001b[0;34m'a'\u001b[0m\u001b[0;34m:\u001b[0m\u001b[0;34m\u001b[0m\u001b[0;34m\u001b[0m\u001b[0m\n\u001b[1;32m    198\u001b[0m         \u001b[0;31m# Open in append mode (read/write).\u001b[0m\u001b[0;34m\u001b[0m\u001b[0;34m\u001b[0m\u001b[0;34m\u001b[0m\u001b[0m\n",
      "\u001b[0;32mh5py/_objects.pyx\u001b[0m in \u001b[0;36mh5py._objects.with_phil.wrapper\u001b[0;34m()\u001b[0m\n",
      "\u001b[0;32mh5py/_objects.pyx\u001b[0m in \u001b[0;36mh5py._objects.with_phil.wrapper\u001b[0;34m()\u001b[0m\n",
      "\u001b[0;32mh5py/h5f.pyx\u001b[0m in \u001b[0;36mh5py.h5f.create\u001b[0;34m()\u001b[0m\n",
      "\u001b[0;31mOSError\u001b[0m: Unable to create file (unable to open file: name = './Daten/cifar_10_convnets_1.h5', errno = 2, error message = 'No such file or directory', flags = 13, o_flags = 242)"
     ]
    }
   ],
   "source": [
    "model.save('./Daten/cifar_10_convnets_1.h5')"
   ]
  },
  {
   "cell_type": "markdown",
   "metadata": {
    "colab_type": "text",
    "id": "FE7KNzPPVrVV"
   },
   "source": [
    "# Part 2 - Dogs vs Cats Image Classification : Visualizing what ConvNets learn?"
   ]
  },
  {
   "cell_type": "markdown",
   "metadata": {
    "colab_type": "text",
    "id": "gN7G9GFmVrVY"
   },
   "source": [
    "In this notebook chapter, we will discuss how to classify images into pictures of cats or pictures of dogs. We'll build an image classifier using `tf.keras.Sequential` model and load data using `tf.keras.preprocessing.image.ImageDataGenerator`. At the end, we will visualize filters and intermediate activation layers.\n",
    "\n",
    "## Specific concepts that will be covered:\n",
    "In the process, we will build practical experience and develop intuition around the following concepts\n",
    "\n",
    "* Building _data input pipelines_ using the `tf.keras.preprocessing.image.ImageDataGenerator` class — How can we efficiently work with data on disk to interface with our model?\n",
    "* _Overfitting_ - what is it, how to identify it, and how can we prevent it?\n",
    "* _Data Augmentation_ and _Dropout_ - Key techniques to fight overfitting in computer vision tasks that we will incorporate into our data pipeline and image classifier model.\n",
    "* _Visualizing ConvNet filters_\n",
    "* _Visualizing intermediate activations_\n",
    "\n",
    "\n",
    "## We will follow the general machine learning workflow:\n",
    "\n",
    "1. Examine and understand data\n",
    "2. Build an input pipeline\n",
    "3. Build our model\n",
    "4. Train our model\n",
    "5. Test our model\n",
    "6. Improve our model/Repeat the process\n",
    "\n",
    "<hr>\n",
    "\n",
    "\n"
   ]
  },
  {
   "cell_type": "markdown",
   "metadata": {
    "colab_type": "text",
    "id": "zF9uvbXNVrVY"
   },
   "source": [
    "## Importing packages"
   ]
  },
  {
   "cell_type": "markdown",
   "metadata": {
    "colab_type": "text",
    "id": "VddxeYBEVrVZ"
   },
   "source": [
    "Let's start by importing required packages:\n",
    "\n",
    "*   os — to read files and directory structure\n",
    "*   numpy — for some matrix math outside of TensorFlow\n",
    "*   matplotlib.pyplot — to plot the graph and display images in our training and validation data"
   ]
  },
  {
   "cell_type": "code",
   "execution_count": null,
   "metadata": {
    "colab": {},
    "colab_type": "code",
    "id": "rtPGh2MAVrVa"
   },
   "outputs": [],
   "source": [
    "from __future__ import absolute_import, division, print_function, unicode_literals\n",
    "\n",
    "import os\n",
    "import numpy as np\n",
    "import matplotlib.pyplot as plt"
   ]
  },
  {
   "cell_type": "code",
   "execution_count": null,
   "metadata": {
    "colab": {},
    "colab_type": "code",
    "id": "L1WtoaOHVrVh"
   },
   "outputs": [],
   "source": [
    "import tensorflow as tf\n",
    "from tensorflow.keras.preprocessing.image import ImageDataGenerator"
   ]
  },
  {
   "cell_type": "markdown",
   "metadata": {
    "colab_type": "text",
    "id": "UZZI6lNkVrVm"
   },
   "source": [
    "## Data Loading"
   ]
  },
  {
   "cell_type": "markdown",
   "metadata": {
    "colab_type": "text",
    "id": "DPHx8-t-VrVo"
   },
   "source": [
    "To build our image classifier, we begin by downloading the dataset. The dataset we are using is a filtered version of <a href=\"https://www.kaggle.com/c/dogs-vs-cats/data\" target=\"_blank\">Dogs vs. Cats</a> dataset from Kaggle (ultimately, this dataset is provided by Microsoft Research).\n",
    "\n",
    "In this Jupyter Notebook however, we will make use of the class `tf.keras.preprocessing.image.ImageDataGenerator` which will read data from disk. We therefore need to directly download *Dogs vs. Cats* from a URL and unzip it to your computers filesystem."
   ]
  },
  {
   "cell_type": "code",
   "execution_count": null,
   "metadata": {
    "colab": {},
    "colab_type": "code",
    "id": "OYmOylPlVrVt"
   },
   "outputs": [],
   "source": [
    "_URL = 'https://storage.googleapis.com/mledu-datasets/cats_and_dogs_filtered.zip'\n",
    "\n",
    "zip_dir = tf.keras.utils.get_file('cats_and_dogs_filterted.zip', origin=_URL, extract=True)"
   ]
  },
  {
   "cell_type": "markdown",
   "metadata": {
    "colab_type": "text",
    "id": "Giv0wMQzVrVw"
   },
   "source": [
    "The dataset we have downloaded has following directory structure.\n",
    "\n",
    "<pre style=\"font-size: 10.0pt; font-family: Arial; line-height: 2; letter-spacing: 1.0pt;\" >\n",
    "<b>cats_and_dogs_filtered</b>\n",
    "|__ <b>train</b>\n",
    "    |______ <b>cats</b>: [cat.0.jpg, cat.1.jpg, cat.2.jpg ....]\n",
    "    |______ <b>dogs</b>: [dog.0.jpg, dog.1.jpg, dog.2.jpg ...]\n",
    "|__ <b>validation</b>\n",
    "    |______ <b>cats</b>: [cat.2000.jpg, cat.2001.jpg, cat.2002.jpg ....]\n",
    "    |______ <b>dogs</b>: [dog.2000.jpg, dog.2001.jpg, dog.2002.jpg ...]\n",
    "</pre>"
   ]
  },
  {
   "cell_type": "markdown",
   "metadata": {
    "colab_type": "text",
    "id": "VpmywIlsVrVx"
   },
   "source": [
    "We'll now assign variables with the proper file path for the training and validation sets."
   ]
  },
  {
   "cell_type": "code",
   "execution_count": null,
   "metadata": {
    "colab": {},
    "colab_type": "code",
    "id": "sRucI3QqVrVy"
   },
   "outputs": [],
   "source": [
    "print(os.path.dirname(zip_dir))\n",
    "base_dir = os.path.join(os.path.dirname(zip_dir), 'cats_and_dogs_filtered')\n",
    "print(base_dir)\n",
    "train_dir = os.path.join(base_dir, 'train')\n",
    "print(train_dir)\n",
    "validation_dir = os.path.join(base_dir, 'validation')\n",
    "print(validation_dir)"
   ]
  },
  {
   "cell_type": "code",
   "execution_count": null,
   "metadata": {
    "colab": {},
    "colab_type": "code",
    "id": "Utv3nryxVrV0"
   },
   "outputs": [],
   "source": [
    "train_cats_dir = os.path.join(train_dir, 'cats')  # directory with our training cat pictures\n",
    "print(train_cats_dir)\n",
    "train_dogs_dir = os.path.join(train_dir, 'dogs')  # directory with our training dog pictures\n",
    "print(train_dogs_dir)\n",
    "validation_cats_dir = os.path.join(validation_dir, 'cats')  # directory with our validation cat pictures\n",
    "print(validation_cats_dir)\n",
    "validation_dogs_dir = os.path.join(validation_dir, 'dogs')  # directory with our validation dog pictures\n",
    "print(validation_dogs_dir)"
   ]
  },
  {
   "cell_type": "markdown",
   "metadata": {
    "colab_type": "text",
    "id": "ZdrHHTy2VrV3"
   },
   "source": [
    "### Understanding our data"
   ]
  },
  {
   "cell_type": "markdown",
   "metadata": {
    "colab_type": "text",
    "id": "LblUYjl-VrV3"
   },
   "source": [
    "Let's look at how many cats and dogs images we have in our training and validation directory"
   ]
  },
  {
   "cell_type": "code",
   "execution_count": null,
   "metadata": {
    "colab": {},
    "colab_type": "code",
    "id": "vc4u8e9hVrV4"
   },
   "outputs": [],
   "source": [
    "num_cats_tr = len(os.listdir(train_cats_dir))\n",
    "num_dogs_tr = len(os.listdir(train_dogs_dir))\n",
    "\n",
    "num_cats_val = len(os.listdir(validation_cats_dir))\n",
    "num_dogs_val = len(os.listdir(validation_dogs_dir))\n",
    "\n",
    "total_train = num_cats_tr + num_dogs_tr\n",
    "total_val = num_cats_val + num_dogs_val"
   ]
  },
  {
   "cell_type": "code",
   "execution_count": null,
   "metadata": {
    "colab": {},
    "colab_type": "code",
    "id": "g4GGzGt0VrV7"
   },
   "outputs": [],
   "source": [
    "print('total training cat images:', num_cats_tr)\n",
    "print('total training dog images:', num_dogs_tr)\n",
    "\n",
    "print('total validation cat images:', num_cats_val)\n",
    "print('total validation dog images:', num_dogs_val)\n",
    "print(\"--\")\n",
    "print(\"Total training images:\", total_train)\n",
    "print(\"Total validation images:\", total_val)"
   ]
  },
  {
   "cell_type": "markdown",
   "metadata": {
    "colab_type": "text",
    "id": "tdsI_L-NVrV_"
   },
   "source": [
    "# Setting Model Parameters"
   ]
  },
  {
   "cell_type": "markdown",
   "metadata": {
    "colab_type": "text",
    "id": "8Lp-0ejxOtP1"
   },
   "source": [
    "For convenience, let us set up variables that will be used later while pre-processing our dataset and training our network."
   ]
  },
  {
   "cell_type": "code",
   "execution_count": null,
   "metadata": {
    "colab": {},
    "colab_type": "code",
    "id": "3NqNselLVrWA"
   },
   "outputs": [],
   "source": [
    "BATCH_SIZE = 128\n",
    "IMG_SHAPE  = 150 # Our training data consists of images with width of 150 pixels and height of 150 pixels"
   ]
  },
  {
   "cell_type": "markdown",
   "metadata": {
    "colab_type": "text",
    "id": "RLciCR_FVrWH"
   },
   "source": [
    "After defining our generators for training and validation images, **flow_from_directory** method will load images from the disk and will apply rescaling and will resize them into required dimensions using single line of code."
   ]
  },
  {
   "cell_type": "markdown",
   "metadata": {
    "colab_type": "text",
    "id": "UOoVpxFwVrWy"
   },
   "source": [
    "# Data Augmentation"
   ]
  },
  {
   "cell_type": "markdown",
   "metadata": {
    "colab_type": "text",
    "id": "Wn_QLciWVrWy"
   },
   "source": [
    "Overfitting often occurs when we have a small number of training examples. One way to fix this problem is to augment our dataset so that it has sufficient number and variety of training examples. Data augmentation takes the approach of generating more training data from existing training samples, by augmenting the samples through random transformations that yield believable-looking images. The goal is that at training time, your model will never see the exact same picture twice. This exposes the model to more aspects of the data, allowing it to generalize better.\n",
    "\n",
    "In **tf.keras** we can implement this using the same **ImageDataGenerator** class we used in the last teaching unit. We can simply pass different transformations we want to our dataset as a form of arguments and it will take care of applying it to the dataset during our training process.\n",
    "\n",
    "To start off, let's define a function that can display an image, so we can see the type of augmentation that has been performed. Then, we'll look at specific augmentations that we'll use during training."
   ]
  },
  {
   "cell_type": "code",
   "execution_count": null,
   "metadata": {
    "colab": {},
    "colab_type": "code",
    "id": "GBYLOFgOXPJ9"
   },
   "outputs": [],
   "source": [
    "# This function will plot images in the form of a grid with 1 row and 5 columns where images are placed in each column.\n",
    "def plotImages(images_arr):\n",
    "    fig, axes = plt.subplots(1, 5, figsize=(20,20))\n",
    "    axes = axes.flatten()\n",
    "    for img, ax in zip(images_arr, axes):\n",
    "        ax.imshow(img)\n",
    "    plt.tight_layout()\n",
    "    plt.show()"
   ]
  },
  {
   "cell_type": "markdown",
   "metadata": {
    "colab_type": "text",
    "id": "rlVj6VqaVrW0"
   },
   "source": [
    "### Flipping the image horizontally"
   ]
  },
  {
   "cell_type": "markdown",
   "metadata": {
    "colab_type": "text",
    "id": "xcdvx4TVVrW1"
   },
   "source": [
    "We can begin by randomly applying horizontal flip augmentation to our dataset and seeing how individual images will look after the transformation. This is achieved by passing `horizontal_flip=True` as an argument to the `ImageDataGenerator` class."
   ]
  },
  {
   "cell_type": "code",
   "execution_count": null,
   "metadata": {
    "colab": {},
    "colab_type": "code",
    "id": "Bi1_vHyBVrW2"
   },
   "outputs": [],
   "source": [
    "image_gen = ImageDataGenerator(rescale=1./255, horizontal_flip=True)\n",
    "\n",
    "train_data_gen = image_gen.flow_from_directory(batch_size=BATCH_SIZE,\n",
    "                                               directory=train_dir,\n",
    "                                               shuffle=True,\n",
    "                                               target_size=(IMG_SHAPE,IMG_SHAPE))"
   ]
  },
  {
   "cell_type": "markdown",
   "metadata": {
    "colab_type": "text",
    "id": "zJpRSxJ-VrW7"
   },
   "source": [
    "from `IPython.display` import `display`, `ImageTo` see the transformation in action, let's take one sample image from our training set and repeat it five times. The augmentation will be randomly applied (or not) to each repetition."
   ]
  },
  {
   "cell_type": "code",
   "execution_count": null,
   "metadata": {
    "colab": {},
    "colab_type": "code",
    "id": "RrKGd_jjVrW7"
   },
   "outputs": [],
   "source": [
    "from PIL import Image\n",
    "# if not installed, execute !pip3 install pillow\n",
    "# then restart kernel\n",
    "import PIL.Image\n",
    "augmented_images = [train_data_gen[0][0][0] for i in range(5)]\n",
    "plotImages(augmented_images)"
   ]
  },
  {
   "cell_type": "markdown",
   "metadata": {
    "colab_type": "text",
    "id": "i7n9xcqCVrXB"
   },
   "source": [
    "### Rotating the image"
   ]
  },
  {
   "cell_type": "markdown",
   "metadata": {
    "colab_type": "text",
    "id": "qXnwkzFuVrXB"
   },
   "source": [
    "The rotation augmentation will randomly rotate the image up to a specified number of degrees. Here, we'll set it to 45."
   ]
  },
  {
   "cell_type": "code",
   "execution_count": null,
   "metadata": {
    "colab": {},
    "colab_type": "code",
    "id": "1zip35pDVrXB"
   },
   "outputs": [],
   "source": [
    "image_gen = ImageDataGenerator(rescale=1./255, rotation_range=45)\n",
    "\n",
    "train_data_gen = image_gen.flow_from_directory(batch_size=BATCH_SIZE,\n",
    "                                               directory=train_dir,\n",
    "                                               shuffle=True,\n",
    "                                               target_size=(IMG_SHAPE, IMG_SHAPE))"
   ]
  },
  {
   "cell_type": "markdown",
   "metadata": {
    "colab_type": "text",
    "id": "deaqZLsfcZ15"
   },
   "source": [
    "To see the transformation in action, let's once again take a sample image from our training set and repeat it. The augmentation will be randomly applied (or not) to each repetition."
   ]
  },
  {
   "cell_type": "code",
   "execution_count": null,
   "metadata": {
    "colab": {},
    "colab_type": "code",
    "id": "kVoWh4OIVrXD"
   },
   "outputs": [],
   "source": [
    "augmented_images = [train_data_gen[0][0][0] for i in range(5)]\n",
    "plotImages(augmented_images)"
   ]
  },
  {
   "cell_type": "markdown",
   "metadata": {
    "colab_type": "text",
    "id": "FOqGPL76VrXM"
   },
   "source": [
    "### Applying Zoom"
   ]
  },
  {
   "cell_type": "markdown",
   "metadata": {
    "colab_type": "text",
    "id": "NvqXaD8BVrXN"
   },
   "source": [
    "We can also apply Zoom augmentation to our dataset, zooming images up to 50% randomly."
   ]
  },
  {
   "cell_type": "code",
   "execution_count": null,
   "metadata": {
    "colab": {},
    "colab_type": "code",
    "id": "tGNKLa_YVrXR"
   },
   "outputs": [],
   "source": [
    "image_gen = ImageDataGenerator(rescale=1./255, zoom_range=0.5)\n",
    "\n",
    "train_data_gen = image_gen.flow_from_directory(batch_size=BATCH_SIZE,\n",
    "                                               directory=train_dir,\n",
    "                                               shuffle=True,\n",
    "                                               target_size=(IMG_SHAPE, IMG_SHAPE))\n"
   ]
  },
  {
   "cell_type": "markdown",
   "metadata": {
    "colab_type": "text",
    "id": "WgPWieSZcctO"
   },
   "source": [
    "One more time, take a sample image from our training set and repeat it. The augmentation will be randomly applied (or not) to each repetition."
   ]
  },
  {
   "cell_type": "code",
   "execution_count": null,
   "metadata": {
    "colab": {},
    "colab_type": "code",
    "id": "VOvTs32FVrXU"
   },
   "outputs": [],
   "source": [
    "augmented_images = [train_data_gen[0][0][0] for i in range(5)]\n",
    "plotImages(augmented_images)"
   ]
  },
  {
   "cell_type": "markdown",
   "metadata": {
    "colab_type": "text",
    "id": "usS13KCNVrXd"
   },
   "source": [
    "### Putting it all together"
   ]
  },
  {
   "cell_type": "markdown",
   "metadata": {
    "colab_type": "text",
    "id": "OC8fIsalVrXd"
   },
   "source": [
    "We can apply all these augmentations, and even others, with just one line of code, by passing the augmentations as arguments with proper values.\n",
    "\n",
    "Here, we have applied rescale, rotation of 45 degrees, width shift, height shift, horizontal flip, and zoom augmentation to our training images."
   ]
  },
  {
   "cell_type": "code",
   "execution_count": null,
   "metadata": {
    "colab": {},
    "colab_type": "code",
    "id": "gnr2xujaVrXe"
   },
   "outputs": [],
   "source": [
    "image_gen_train = ImageDataGenerator(\n",
    "      rescale=1./255,\n",
    "      rotation_range=40,\n",
    "      width_shift_range=0.2,\n",
    "      height_shift_range=0.2,\n",
    "      shear_range=0.2,\n",
    "      zoom_range=0.2,\n",
    "      horizontal_flip=True,\n",
    "      fill_mode='nearest')\n",
    "\n",
    "train_data_gen = image_gen_train.flow_from_directory(batch_size=BATCH_SIZE,\n",
    "                                                     directory=train_dir,\n",
    "                                                     shuffle=True,\n",
    "                                                     target_size=(IMG_SHAPE,IMG_SHAPE),\n",
    "                                                     class_mode='binary')"
   ]
  },
  {
   "cell_type": "markdown",
   "metadata": {
    "colab_type": "text",
    "id": "AW-pV5awVrXl"
   },
   "source": [
    "Let's visualize how a single image would look like five different times, when we pass these augmentations randomly to our dataset. "
   ]
  },
  {
   "cell_type": "code",
   "execution_count": null,
   "metadata": {
    "colab": {},
    "colab_type": "code",
    "id": "z2m68eMhVrXm"
   },
   "outputs": [],
   "source": [
    "augmented_images = [train_data_gen[0][0][0] for i in range(5)]\n",
    "plotImages(augmented_images)"
   ]
  },
  {
   "cell_type": "markdown",
   "metadata": {
    "colab_type": "text",
    "id": "J8cUd7FXVrXq"
   },
   "source": [
    "### Creating Validation Data generator"
   ]
  },
  {
   "cell_type": "markdown",
   "metadata": {
    "colab_type": "text",
    "id": "a99fDBt7VrXr"
   },
   "source": [
    "Generally, we only apply data augmentation to our training examples, since the original images should be representative of what our model needs to manage. So, in this case we are only rescaling our validation images and converting them into batches using ImageDataGenerator."
   ]
  },
  {
   "cell_type": "code",
   "execution_count": null,
   "metadata": {
    "colab": {},
    "colab_type": "code",
    "id": "54x0aNbKVrXr"
   },
   "outputs": [],
   "source": [
    "image_gen_val = ImageDataGenerator(rescale=1./255)\n",
    "\n",
    "val_data_gen = image_gen_val.flow_from_directory(batch_size=BATCH_SIZE,\n",
    "                                                 directory=validation_dir,\n",
    "                                                 target_size=(IMG_SHAPE, IMG_SHAPE),\n",
    "                                                 class_mode='binary')"
   ]
  },
  {
   "cell_type": "markdown",
   "metadata": {
    "colab_type": "text",
    "id": "b5Ej-HLGVrWZ"
   },
   "source": [
    "# Model Creation"
   ]
  },
  {
   "cell_type": "markdown",
   "metadata": {
    "colab_type": "text",
    "id": "wEgW4i18VrWZ"
   },
   "source": [
    "## Define the model\n",
    "\n",
    "The model consists of four convolution blocks with a max pool layer in each of them.\n",
    "\n",
    "Before the final Dense layers, we're also applying a Dropout probability of 0.5. It means that 50% of the values coming into the Dropout layer will be set to zero. This helps to prevent overfitting.\n",
    "\n",
    "Then we have a fully connected layer with 512 units, with a `relu` activation function. The model will output class probabilities for two classes — dogs and cats — using `softmax`. "
   ]
  },
  {
   "cell_type": "code",
   "execution_count": null,
   "metadata": {
    "cellView": "both",
    "colab": {},
    "colab_type": "code",
    "id": "Evjf8jZk2zi-"
   },
   "outputs": [],
   "source": [
    "model = tf.keras.models.Sequential([\n",
    "    tf.keras.layers.Conv2D(32, (3,3), activation='relu', input_shape=(150, 150, 3)),\n",
    "    tf.keras.layers.MaxPooling2D(2, 2),\n",
    "\n",
    "    tf.keras.layers.Conv2D(64, (3,3), activation='relu'),\n",
    "    tf.keras.layers.MaxPooling2D(2,2),\n",
    "\n",
    "    tf.keras.layers.Conv2D(128, (3,3), activation='relu'),\n",
    "    tf.keras.layers.MaxPooling2D(2,2),\n",
    "\n",
    "    tf.keras.layers.Conv2D(128, (3,3), activation='relu'),\n",
    "    tf.keras.layers.MaxPooling2D(2,2),\n",
    "\n",
    "    tf.keras.layers.Dropout(0.5),\n",
    "    tf.keras.layers.Flatten(),\n",
    "    tf.keras.layers.Dense(512, activation='relu'),\n",
    "    tf.keras.layers.Dense(2, activation='softmax')\n",
    "])"
   ]
  },
  {
   "cell_type": "markdown",
   "metadata": {
    "colab_type": "text",
    "id": "DADWLqMSJcH3"
   },
   "source": [
    "### Compiling the model\n",
    "\n",
    "As usual, we will use the `adam` optimizer. Since we output a softmax categorization, we'll use `sparse_categorical_crossentropy` as the loss function. We would also like to look at training and validation accuracy on each epoch as we train our network, so we are passing in the metrics argument."
   ]
  },
  {
   "cell_type": "code",
   "execution_count": null,
   "metadata": {
    "colab": {},
    "colab_type": "code",
    "id": "08rRJ0sn3Tb1"
   },
   "outputs": [],
   "source": [
    "model.compile(optimizer='adam',\n",
    "              loss='sparse_categorical_crossentropy',\n",
    "              metrics=['accuracy'])"
   ]
  },
  {
   "cell_type": "markdown",
   "metadata": {
    "colab_type": "text",
    "id": "uurnCp_H4Hj9"
   },
   "source": [
    "### Model Summary\n",
    "\n",
    "Let's look at all the layers of our network using **summary** method."
   ]
  },
  {
   "cell_type": "code",
   "execution_count": null,
   "metadata": {
    "colab": {},
    "colab_type": "code",
    "id": "b66qAJF_4Jnw"
   },
   "outputs": [],
   "source": [
    "model.summary()"
   ]
  },
  {
   "cell_type": "markdown",
   "metadata": {
    "colab_type": "text",
    "id": "N06iqE8VVrWj"
   },
   "source": [
    "### Train the model"
   ]
  },
  {
   "cell_type": "markdown",
   "metadata": {
    "colab_type": "text",
    "id": "oub9RtoFVrWk"
   },
   "source": [
    "It's time we train our network.\n",
    "\n",
    "Since our batches are coming from a generator (`ImageDataGenerator`), we'll use `fit_generator` instead of `fit`."
   ]
  },
  {
   "cell_type": "code",
   "execution_count": null,
   "metadata": {
    "colab": {},
    "colab_type": "code",
    "id": "tk5NT1PW3j_P"
   },
   "outputs": [],
   "source": [
    "epochs=100\n",
    "history = model.fit_generator(\n",
    "    train_data_gen,\n",
    "    steps_per_epoch=int(np.ceil(total_train / float(BATCH_SIZE))),\n",
    "    epochs=epochs,\n",
    "    validation_data=val_data_gen,\n",
    "    validation_steps=int(np.ceil(total_val / float(BATCH_SIZE)))\n",
    ")"
   ]
  },
  {
   "cell_type": "markdown",
   "metadata": {
    "colab_type": "text",
    "id": "ojJNteAGVrWo"
   },
   "source": [
    "### Visualizing results of the training"
   ]
  },
  {
   "cell_type": "markdown",
   "metadata": {
    "colab_type": "text",
    "id": "LZPYT-EmVrWo"
   },
   "source": [
    "We'll now visualize the results we get after training our network."
   ]
  },
  {
   "cell_type": "code",
   "execution_count": null,
   "metadata": {
    "colab": {},
    "colab_type": "code",
    "id": "8CfngybnFHQR"
   },
   "outputs": [],
   "source": [
    "acc = history.history['accuracy']\n",
    "val_acc = history.history['val_accuracy']\n",
    "\n",
    "loss = history.history['loss']\n",
    "val_loss = history.history['val_loss']\n",
    "\n",
    "epochs_range = range(epochs)\n",
    "\n",
    "plt.figure(figsize=(8, 8))\n",
    "plt.subplot(1, 2, 1)\n",
    "plt.plot(epochs_range, acc, label='Training Accuracy')\n",
    "plt.plot(epochs_range, val_acc, label='Validation Accuracy')\n",
    "plt.legend(loc='lower right')\n",
    "plt.title('Training and Validation Accuracy')\n",
    "\n",
    "plt.subplot(1, 2, 2)\n",
    "plt.plot(epochs_range, loss, label='Training Loss')\n",
    "plt.plot(epochs_range, val_loss, label='Validation Loss')\n",
    "plt.legend(loc='upper right')\n",
    "plt.title('Training and Validation Loss')\n",
    "plt.show()"
   ]
  },
  {
   "cell_type": "markdown",
   "metadata": {},
   "source": [
    "### Saving the model"
   ]
  },
  {
   "cell_type": "code",
   "execution_count": null,
   "metadata": {},
   "outputs": [],
   "source": [
    "model.save('./Daten/cats_and_dogs_small_1.h5')"
   ]
  },
  {
   "cell_type": "markdown",
   "metadata": {},
   "source": [
    "# Transfer Learning\n",
    "\n",
    "In this Notebook Chapter, we'll take a trained model, load it into to Keras, and try it out.\n",
    "\n",
    "The model that we'll use is VGG16."
   ]
  },
  {
   "cell_type": "code",
   "execution_count": null,
   "metadata": {},
   "outputs": [],
   "source": [
    "# Defining the loss tensor for filter visualization\n",
    "\n",
    "model_vgg16 = tf.keras.applications.VGG16(weights='imagenet',\n",
    "                                   include_top=True)"
   ]
  },
  {
   "cell_type": "code",
   "execution_count": null,
   "metadata": {},
   "outputs": [],
   "source": [
    "model_vgg16.summary()"
   ]
  },
  {
   "cell_type": "markdown",
   "metadata": {},
   "source": [
    "### Run it on a single image\n",
    "\n",
    "Remember our `model_vgg16` object is still the full VGG16 model trained on ImageNet, so it has 1000 possible output classes.\n",
    "ImageNet has a lot of dogs and cats in it, so let's see if it can predict the images in our Dogs vs. Cats dataset.\n",
    "\n",
    "Next, we we'll get an input image -- a picture of a cat, not part of the images \n",
    "the network was trained on. "
   ]
  },
  {
   "cell_type": "code",
   "execution_count": null,
   "metadata": {},
   "outputs": [],
   "source": [
    "import numpy as np\n",
    "import PIL.Image as Image\n",
    "\n",
    "img_path = './Daten/cat_1700.jpg'\n",
    "\n",
    "from tensorflow.keras.preprocessing import image\n",
    "import numpy as np\n",
    "\n",
    "img = image.load_img(img_path, target_size=(224, 224))\n",
    "img_tensor_orig = image.img_to_array(img)\n",
    "img_tensor_orig = np.expand_dims(img_tensor_orig, axis=0)\n",
    "img_tensor =img_tensor_orig/255\n",
    "\n",
    "print(img_tensor.shape)\n"
   ]
  },
  {
   "cell_type": "markdown",
   "metadata": {},
   "source": [
    "### Displaying the test picture"
   ]
  },
  {
   "cell_type": "code",
   "execution_count": null,
   "metadata": {},
   "outputs": [],
   "source": [
    "import matplotlib.pyplot as plt\n",
    "\n",
    "plt.imshow(img_tensor[0])\n",
    "plt.show()"
   ]
  },
  {
   "cell_type": "code",
   "execution_count": null,
   "metadata": {},
   "outputs": [],
   "source": [
    "result = model_vgg16.predict(img_tensor_orig)\n",
    "result.shape"
   ]
  },
  {
   "cell_type": "markdown",
   "metadata": {},
   "source": [
    "The result is a 1001 element vector of logits, rating the probability of each class for the image.\n",
    "\n",
    "So the top class ID can be found with argmax. But how can we know what class this actually is and in particular if that class ID in the ImageNet dataset denotes a cat or something else?"
   ]
  },
  {
   "cell_type": "code",
   "execution_count": null,
   "metadata": {},
   "outputs": [],
   "source": [
    "predicted_class = np.argmax(result[0], axis=-1)\n",
    "predicted_class"
   ]
  },
  {
   "cell_type": "markdown",
   "metadata": {},
   "source": [
    "#### Decode the predictions\n",
    "\n",
    "To see what our `predicted_class` is in the ImageNet dataset, download the ImageNet labels and fetch the row that the model predicted."
   ]
  },
  {
   "cell_type": "code",
   "execution_count": null,
   "metadata": {},
   "outputs": [],
   "source": [
    "print(tf.keras.applications.vgg16.decode_predictions(result, top=3))\n",
    "\n",
    "plt.imshow(img_tensor[0])\n",
    "plt.axis('off')\n",
    "predicted_class_name = tf.keras.applications.vgg16.decode_predictions(result, top=1)[0][0][1]\n",
    "_ = plt.title(\"Prediction: \" + predicted_class_name)"
   ]
  },
  {
   "cell_type": "markdown",
   "metadata": {},
   "source": [
    "That is not correct. Let us see, whether we can do it better with our model we have trained \n",
    "before."
   ]
  },
  {
   "cell_type": "code",
   "execution_count": null,
   "metadata": {},
   "outputs": [],
   "source": [
    "model = tf.keras.models.load_model('./Daten/cats_and_dogs_small_1.h5')\n",
    "model.summary()"
   ]
  },
  {
   "cell_type": "markdown",
   "metadata": {},
   "source": [
    "We first need to resize the photo of the cat to the size $150\\times 150$."
   ]
  },
  {
   "cell_type": "code",
   "execution_count": null,
   "metadata": {},
   "outputs": [],
   "source": [
    "img_path = './Daten/cat_1700.jpg'\n",
    "\n",
    "from tensorflow.keras.preprocessing import image\n",
    "import numpy as np\n",
    "\n",
    "img = image.load_img(img_path, target_size=(150, 150))\n",
    "img_tensor = image.img_to_array(img)\n",
    "img_tensor = np.expand_dims(img_tensor, axis=0)\n",
    "img_tensor /=255\n",
    "\n",
    "print(img_tensor.shape)"
   ]
  },
  {
   "cell_type": "code",
   "execution_count": null,
   "metadata": {},
   "outputs": [],
   "source": [
    "result = model.predict(img_tensor)\n",
    "print(result)\n",
    "predicted_class = np.argmax(result[0], axis=-1)\n",
    "predicted_class"
   ]
  },
  {
   "cell_type": "markdown",
   "metadata": {},
   "source": [
    "The subdirectory “cat” comes before “dog“, therefore the class labels are assigned the integers: _cat=0, dog=1_. Thus, the prediction is correct."
   ]
  },
  {
   "cell_type": "markdown",
   "metadata": {},
   "source": [
    "# Visualizing what convnets learn\n",
    "\n",
    "\n",
    "It is often said that deep-learning models are \"black-boxes\" : learning representations that are difficult to extract and present in a human-readable form. Although this is partially true \n",
    "for certain types of deep-learning models, it is definitely not true for ConvNets. The representations learned by ConvNets are highly amenable to visualization, in large part because they are _representations of visual concepts_. Since 2013, a wide array of techniques have been developed for visualizing and interpreting these representations. We won't survey all of them, but we will cover three of the most accessible and useful ones:\n",
    "\n",
    "- _Visualizing intermediate ConvNet outputs (intermediate activations)_ -- Useful for understanding how successive convnet layers transform their input, and for getting a first idea of the meaning of individual ConvNet filters.\n",
    "\n",
    "- _Visualizing ConvNet filters_ -- Useful for understanding precisely what visual pattern or concept each filter in a convnet is receptive to. \n",
    "\n",
    "- _Visualizing heatmaps of class activation in an image_ -- Useful for understanding which parts of an image were identified as belonging to a given class, thus allowing you to localize objects in images.\n",
    "\n",
    "For the first method - activation visualization - we will use the small ConvNet that we have trained from scratch on the dogs-versus-cats classification problem before. "
   ]
  },
  {
   "cell_type": "markdown",
   "metadata": {},
   "source": [
    "## 1. Visualizing intermediate layers\n",
    "\n",
    "Visualizing intermediate layers consists of displaying the activation maps that are output by various convolution and pooling layers in a network, given a certain input (the output of a layer is often called its __activation maps__, the output of the activation function). \n",
    "\n",
    "This gives a view into how an input is decomposed into the different filters learned by the network. You want to \n",
    "visualize activation maps with three dimensions: width, height, and depth (number of filters = number of activation maps). Eeach activation map encodes relatively independent features, so the proper way to visualize these activation maps is by independently plotting the contents of every activation map as a 2D image. Lat's start by loading the model that we saved before. "
   ]
  },
  {
   "cell_type": "code",
   "execution_count": null,
   "metadata": {},
   "outputs": [],
   "source": [
    "model = tf.keras.models.load_model('./Daten/cats_and_dogs_small_1.h5')\n",
    "model.summary()"
   ]
  },
  {
   "cell_type": "markdown",
   "metadata": {},
   "source": [
    "Next, we we'll get an input image -- a picture of a cat, not part of the images \n",
    "the network was trained on. "
   ]
  },
  {
   "cell_type": "code",
   "execution_count": null,
   "metadata": {},
   "outputs": [],
   "source": [
    "img_path = './Daten/cat_1700.jpg'\n",
    "\n",
    "from tensorflow.keras.preprocessing import image\n",
    "import numpy as np\n",
    "\n",
    "img = image.load_img(img_path, target_size=(150, 150))\n",
    "img_tensor = image.img_to_array(img)\n",
    "img_tensor = np.expand_dims(img_tensor, axis=0)\n",
    "img_tensor /=255\n",
    "\n",
    "print(img_tensor.shape)"
   ]
  },
  {
   "cell_type": "markdown",
   "metadata": {},
   "source": [
    "#### Displaying the test picture"
   ]
  },
  {
   "cell_type": "code",
   "execution_count": null,
   "metadata": {},
   "outputs": [],
   "source": [
    "import matplotlib.pyplot as plt\n",
    "\n",
    "plt.imshow(img_tensor[0])\n",
    "plt.show()"
   ]
  },
  {
   "cell_type": "markdown",
   "metadata": {},
   "source": [
    "In order to extract the activation maps we want to look at, we will create a Keras model \n",
    "that takes batches of images as input, and outputs the activation maps of all convolutional \n",
    "and pooling layers. To do this, we will use the Keras class `Model`. \n",
    "\n",
    "A model is instantiated using two arguments: an input tensor (or list of input tensors) \n",
    "and an output tensor (or list of output tensors). The resulting class is a Keras model, just \n",
    "like the `Sequential` models we are familiar with, mapping the specified inputs to the specified outputs. \n",
    "\n",
    "What sets the `Model` class apart is that it allows for models with multiple outputs, unlike `Sequential`. "
   ]
  },
  {
   "cell_type": "code",
   "execution_count": null,
   "metadata": {},
   "outputs": [],
   "source": [
    "layer_outputs = [layer.output for layer in model.layers[:8]]\n",
    "activation_model = tf.keras.models.Model(inputs=model.input, outputs=layer_outputs)"
   ]
  },
  {
   "cell_type": "markdown",
   "metadata": {},
   "source": [
    "When fed an image input, this model returns the values of the activation maps in the original \n",
    "model. Now we will encounter a multi-output model : until now, \n",
    "the models you have seen have had exactly one input and one output. In the general case, a model \n",
    "can have any number of inputs and outputs. This one has one input and eight outputs : one output per intermediate layer."
   ]
  },
  {
   "cell_type": "markdown",
   "metadata": {},
   "source": [
    "#### Running the model in predict mode"
   ]
  },
  {
   "cell_type": "code",
   "execution_count": null,
   "metadata": {},
   "outputs": [],
   "source": [
    "layer_activation_maps = activation_model.predict(img_tensor)"
   ]
  },
  {
   "cell_type": "markdown",
   "metadata": {},
   "source": [
    "For instance, this is the output volume of the first convolution layer for the cat image input:"
   ]
  },
  {
   "cell_type": "code",
   "execution_count": null,
   "metadata": {},
   "outputs": [],
   "source": [
    "first_layer_activation_maps = layer_activation_maps[0]\n",
    "print(first_layer_activation_maps.shape)"
   ]
  },
  {
   "cell_type": "markdown",
   "metadata": {},
   "source": [
    "It's a 148x148x32 output volume with 32 activation maps. Let's try plotting the first activation map \n",
    "of the activation volume of the original model. "
   ]
  },
  {
   "cell_type": "code",
   "execution_count": null,
   "metadata": {},
   "outputs": [],
   "source": [
    "import matplotlib.pyplot as plt\n",
    "plt.matshow(first_layer_activation_maps[0, :, :, 0], cmap='viridis')"
   ]
  },
  {
   "cell_type": "markdown",
   "metadata": {},
   "source": [
    "This activation map appears to encode a diagonal edge detector. Let's try the seventh activation map of the first layer - \n",
    "but note that your own activation maps may vary, because the specific filters learned by convolutional layers \n",
    "aren't deterministic."
   ]
  },
  {
   "cell_type": "code",
   "execution_count": null,
   "metadata": {},
   "outputs": [],
   "source": [
    "# Visualizing the seventh channel\n",
    "plt.matshow(first_layer_activation_maps[0, :, :, 6], cmap='viridis')"
   ]
  },
  {
   "cell_type": "markdown",
   "metadata": {},
   "source": [
    "This one looks like a bright white dot detector, useful to encode cat eyes. At this \n",
    "point, let's plot a complete visualization of all the activations in the network. \n",
    "You will extract and plot every channel in each of the eight activation maps, and you will \n",
    "stack the results in one big image tensor, with channels stacked side by side."
   ]
  },
  {
   "cell_type": "code",
   "execution_count": null,
   "metadata": {},
   "outputs": [],
   "source": [
    "# Visualizing every channel in every intermediate activation\n",
    "\n",
    "# Names of the layers, so we can \n",
    "# have them as part of our plot\n",
    "layer_names = []\n",
    "for layer in model.layers[:8]:\n",
    "    layer_names.append(layer.name)\n",
    "    \n",
    "\n",
    "images_per_row = 16\n",
    "\n",
    "# displays the feature maps\n",
    "for layer_name, layer_activation in zip(layer_names, layer_activation_maps):\n",
    "    # number of features in the feature map\n",
    "    n_features = layer_activation.shape[-1]\n",
    "    # the feature map has shape (I, size, size, n_features)\n",
    "    size = layer_activation.shape[1]\n",
    "    # tiles the activation channels in this matrix\n",
    "    n_cols = n_features // images_per_row\n",
    "    display_grid = np.zeros((size * n_cols, images_per_row * size))\n",
    "    # tiles each filter into a big horizontal grid\n",
    "    for col in range(n_cols):\n",
    "        for row in range(images_per_row):\n",
    "            for row in range(images_per_row):\n",
    "                channel_image = layer_activation[0, :, :, col * images_per_row + row]\n",
    "                \n",
    "                # post-processes the feature to make it visually palatable\n",
    "                \n",
    "                channel_image -= channel_image.mean()\n",
    "                channel_image /= channel_image.std()\n",
    "                channel_image *= 64\n",
    "                channel_image += 128\n",
    "                channel_image = np.clip(channel_image, 0, 255).astype('uint8')\n",
    "                display_grid[col * size : (col + 1) * size,\n",
    "                             row * size : (row + 1) * size] = channel_image\n",
    "                    \n",
    "                    \n",
    "        scale = 1. / size\n",
    "        plt.figure(figsize=(scale * display_grid.shape[1],\n",
    "                            scale * display_grid.shape[0]))\n",
    "        plt.title(layer_name)\n",
    "        plt.grid(False)\n",
    "        plt.imshow(display_grid, aspect='auto', cmap='viridis')\n",
    "                 \n",
    "                \n",
    "    \n",
    "    \n",
    "    \n",
    "    \n",
    "    "
   ]
  },
  {
   "cell_type": "markdown",
   "metadata": {},
   "source": [
    "There are a few things to note here:\n",
    "\n",
    "- The first layer acts as a collection of various edge detectors. At that stage, the activations retain almost all of the information present in the initial picture.\n",
    "\n",
    "- As you go higher, the activations become increasingly abstract and less visually interpretable. They begin to encode higher-level concepts such as \"cat ear\" and \"cat eye\". Higher presentations carry increasingly less information about the visual contents of the image, and increasingly more information related to the class of the image.\n",
    "\n",
    "- The sparsity of the activations increases with the depth of the layer : in the first layer, all filters are activated by the input image; but in the following layers, more and more filters are blank. This means the pattern encoded by the filter is not found in the input image. \n",
    "\n",
    "\n",
    "We have just evidenced an important universal characteristics  of the representations learned by deep neural networks: the features extracted by a layer become increasingly abstract with the depth of the layer. The activations of higher layers carry less and less information about the specific input being seen, and more and more information about the target (in this case, the class fo the image: cat or dog). A deep neural network effectively acts as an _information distillation pipeline_, with raw data going in (in this case, RGB pictures) and being repeatedly transformed so that irrelevant information is magnified and refined (for example, the specific visual appearance of the image), and useful information is magnified and refined (for example, the class of the image)."
   ]
  },
  {
   "cell_type": "markdown",
   "metadata": {},
   "source": [
    "## 2. Visualizing Convnet Filters\n",
    "\n",
    "We can access all of the layers of the model via the `model.layers` property.\n",
    "\n",
    "Each layer has a `layer.name` property, where the convolutional layers have a naming convolution like `block#_conv#`, where the `#` is an integer. Therefore, we can check the name of each layer and skip any that don’t contain the string `conv`."
   ]
  },
  {
   "cell_type": "code",
   "execution_count": null,
   "metadata": {},
   "outputs": [],
   "source": [
    "# summarize filter shapes\n",
    "for layer in model.layers:\n",
    "    # check for convolutional layer\n",
    "    if 'conv' not in layer.name:\n",
    "        continue"
   ]
  },
  {
   "cell_type": "markdown",
   "metadata": {},
   "source": [
    "Each convolutional layer has two sets of weights. One is the block of filters and the other is the block of bias values. These are accessible via the `layer.get_weights()` function. We can retrieve these weights and then summarize their shape."
   ]
  },
  {
   "cell_type": "code",
   "execution_count": null,
   "metadata": {},
   "outputs": [],
   "source": [
    "# get filter weights\n",
    "filters, biases = layer.get_weights()\n",
    "print(layer.name, filters.shape)"
   ]
  },
  {
   "cell_type": "markdown",
   "metadata": {},
   "source": [
    "Tying this together, the complete example of summarizing the model filters is listed below."
   ]
  },
  {
   "cell_type": "code",
   "execution_count": null,
   "metadata": {},
   "outputs": [],
   "source": [
    "# summarize filters in each convolutional layer\n",
    "import matplotlib.pyplot as plt\n",
    "# load the model\n",
    "\n",
    "# summarize filter shapes\n",
    "for layer in model.layers:\n",
    "    # check for convolutional layer\n",
    "    if 'conv' not in layer.name:\n",
    "        continue\n",
    "    # get filter weights\n",
    "    filters, biases = layer.get_weights()\n",
    "    print(layer.name, filters.shape)"
   ]
  },
  {
   "cell_type": "markdown",
   "metadata": {},
   "source": [
    "We can see that all convolutional layers use 3×3 filters, which are small and perhaps easy to interpret.\n",
    "\n",
    "We can retrieve the filters from the first layer as follows:"
   ]
  },
  {
   "cell_type": "code",
   "execution_count": null,
   "metadata": {},
   "outputs": [],
   "source": [
    "# retrieve weights from the first hidden layer\n",
    "filters, biases = model.layers[0].get_weights()\n",
    "print(filters.shape, biases.shape, filters.dtype)"
   ]
  },
  {
   "cell_type": "code",
   "execution_count": null,
   "metadata": {},
   "outputs": [],
   "source": [
    "# normalize filter values to 0-1 so we can visualize them\n",
    "f_min, f_max = filters.min(), filters.max()\n",
    "filters = (filters - f_min) / (f_max - f_min)"
   ]
  },
  {
   "cell_type": "code",
   "execution_count": null,
   "metadata": {},
   "outputs": [],
   "source": [
    "# plot all 32 filters\n",
    "n_filters = 32\n",
    "for i in range(n_filters):\n",
    "    # get the filter\n",
    "    f = filters[:, :, :, i]\n",
    "    ax = plt.subplot(8, 4 , i+1)\n",
    "    ax.set_xticks([])\n",
    "    ax.set_yticks([])\n",
    "    plt.imshow(f)\n",
    "# show the figure\n",
    "plt.show()"
   ]
  },
  {
   "cell_type": "markdown",
   "metadata": {},
   "source": [
    "We can see that for the input image with three channels for red, green and blue, that each filter has a depth of three (here we are working with a channel-last format). We could visualize one filter as a plot with three images, one for each channel, or compress all three down to a single color image, or even just look at the first channel and assume the other channels will look the same. The problem is, we then have 63 other filters that we might like to visualize.\n",
    "\n",
    "\n",
    "Now we can enumerate the first six filters out of the 32 in the block and plot each of the three channels of each filter."
   ]
  },
  {
   "cell_type": "code",
   "execution_count": null,
   "metadata": {},
   "outputs": [],
   "source": [
    "# plot first few filters\n",
    "n_filters, ix = 6, 1\n",
    "for i in range(n_filters):\n",
    "    # get the filter\n",
    "    f = filters[:, :, :, i]\n",
    "    # plot each channel separately\n",
    "    for j in range(3):\n",
    "        # specify subplot and turn of axis\n",
    "        ax = plt.subplot(n_filters, 3, ix)\n",
    "        ax.set_xticks([])\n",
    "        ax.set_yticks([])\n",
    "        # plot filter channel in grayscale\n",
    "        plt.imshow(f[:, :, j], cmap='gray')\n",
    "        ix += 1\n",
    "# show the figure\n",
    "plt.show()"
   ]
  }
 ],
 "metadata": {
  "accelerator": "GPU",
  "colab": {
   "collapsed_sections": [],
   "name": "Cats vs Dogs with Data Augmentation.ipynb",
   "private_outputs": true,
   "provenance": [],
   "toc_visible": true
  },
  "kernelspec": {
   "display_name": "Python 3",
   "language": "python",
   "name": "python3"
  },
  "language_info": {
   "codemirror_mode": {
    "name": "ipython",
    "version": 3
   },
   "file_extension": ".py",
   "mimetype": "text/x-python",
   "name": "python",
   "nbconvert_exporter": "python",
   "pygments_lexer": "ipython3",
   "version": "3.7.6"
  }
 },
 "nbformat": 4,
 "nbformat_minor": 4
}
